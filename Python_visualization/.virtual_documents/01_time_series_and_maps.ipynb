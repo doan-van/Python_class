





import pandas as pd
import numpy as np





# Load a CSV file into a Pandas DataFrame, using the first column as the index
df = pd.read_csv('Temp_increase_Japan_1950-2020.csv', index_col=0)



df





# Plot all columns in the DataFrame without a legend
df.plot(legend=False)





# Import the Matplotlib library for plotting
import matplotlib.pyplot as plt





# Extract the index (years) from the DataFrame to use as the x-axis values
x = df.index
# Extract the values from the DataFrame to use as the y-axis values
y = df.values
# Plot the time series with a light gray color, thin lines, and some transparency
plt.figure(figsize=(12, 6))
plt.plot(x, y, color='lightgray', linewidth=0.5, alpha=0.7)





plt.figure(figsize=(12, 6))
plt.plot(x, y, color='lightgray', linewidth=0.5, alpha=0.7)
# Calculate the yearly average temperature increase across all locations
yearly_avg_temp_increase = df.mean(axis=1)
# Plot the yearly average temperature increase in a highlighted style
plt.plot(x, yearly_avg_temp_increase, label="Average Temperature Increase")









yearly_avg_temp_increase = df.mean(axis=1)
plt.figure(figsize=(12, 6))
plt.plot(x, y, color='lightgray', linewidth=0.5, alpha=0.7)
plt.plot(x, yearly_avg_temp_increase, label="Average Temperature Increase")


# Set the label for the x-axis as "Year"
plt.xlabel("Year")
# Set the label for the y-axis as "Temperature Increase (°C)"
plt.ylabel("Temperature Increase (°C)")
# Set the title of the plot to describe the content
plt.title("Average Temperature Increase in Japan (1950–2020)")
# Display the legend for the plotted lines
plt.legend()
# Enable the grid for better readability
plt.grid(True)














# Import the Cartopy library for geographic projections
import cartopy.crs as ccrs
# Import Cartopy's feature module to add map features like coastlines and borders
import cartopy.feature as cfeature





# Initialize a figure with the PlateCarree projection directly
plt.figure(figsize=(10, 8))
ax = plt.axes(projection=ccrs.PlateCarree())
# Add coastlines and other map features at a high resolution
ax.coastlines(resolution='50m')





plt.figure(figsize=(10, 8))
ax = plt.axes(projection=ccrs.PlateCarree())
ax.coastlines(resolution='10m')
#===========
# Set extent to cover Japan [longitude_min, longitude_max, latitude_min, latitude_max]
map_extent = [122, 153, 24, 46]
ax.set_extent(map_extent, crs=ccrs.PlateCarree())

# Set the title of the map to "Map of Japan"
plt.title("Map of Japan")







# Initialize a figure with PlateCarree projection directly
plt.figure(figsize=(10, 8))
ax = plt.axes(projection=ccrs.PlateCarree())
ax.set_extent(map_extent, crs=ccrs.PlateCarree())
ax.coastlines(resolution='10m')
plt.title("Map of Japan")

#=======
# Add country borders with a dotted line style
ax.add_feature(cfeature.BORDERS, linestyle=':')
# Add land with a light gray color
ax.add_feature(cfeature.LAND, facecolor='lightgray')
# Add oceans with a light blue color
ax.add_feature(cfeature.OCEAN, facecolor='lightblue')
# Add lakes with a blue color and some transparency
ax.add_feature(cfeature.LAKES, facecolor='blue', alpha=0.5)
# Add rivers in default style
ax.add_feature(cfeature.RIVERS)
# Optional gridlines for better readability
gl = ax.gridlines(draw_labels=True, linestyle='--', color='gray')
gl.top_labels = False  # Hide labels on the top edge
gl.right_labels = False  # Hide labels on the right edge






plt.figure(figsize=(10, 8))
ax = plt.axes(projection=ccrs.PlateCarree())
ax.set_extent(map_extent, crs=ccrs.PlateCarree())

# Add coastlines and other features
ax.coastlines(resolution='10m')
ax.add_feature(cfeature.BORDERS, linestyle=':')
ax.add_feature(cfeature.LAND, facecolor='lightgray')
ax.add_feature(cfeature.OCEAN, facecolor='lightblue')
ax.add_feature(cfeature.LAKES, facecolor='blue', alpha=0.5)
ax.add_feature(cfeature.RIVERS)

# Optional gridlines
gl = ax.gridlines(draw_labels=True, linestyle='--', color='gray')
gl.top_labels = False
gl.right_labels = False

#======================
# Coordinates for Tokyo
tokyo_lon, tokyo_lat = 139.6917, 35.6895
# Mark Tokyo with a red dot and label
ax.plot(tokyo_lon, tokyo_lat, marker='o', color='red', markersize=5, transform=ccrs.PlateCarree())
# Add a label "Tokyo" next to the red dot
ax.text(tokyo_lon + 0.5, tokyo_lat, 'Tokyo', transform=ccrs.PlateCarree(), fontsize=20, color='red')
plt.title("Map of Japan")






# Load the data from the CSV file into a DataFrame
amedas_data = pd.read_csv("station_info.csv", index_col=0)
# Display the contents of the DataFrame
amedas_data





# Extract latitude, longitude, and station ID columns
latitude = amedas_data['latitude']
longitude = amedas_data['longitude']






plt.figure(figsize=(10, 8))
ax = plt.axes(projection=ccrs.PlateCarree())
ax.set_extent(map_extent, crs=ccrs.PlateCarree())
# Add coastlines and other features
ax.coastlines(resolution='10m')
ax.add_feature(cfeature.BORDERS, linestyle=':')
ax.add_feature(cfeature.LAND, facecolor='lightgray')
ax.add_feature(cfeature.OCEAN, facecolor='lightblue')
ax.add_feature(cfeature.LAKES, facecolor='blue', alpha=0.5)
ax.add_feature(cfeature.RIVERS)
# Optional gridlines
gl = ax.gridlines(draw_labels=True, linestyle='--', color='gray')
gl.top_labels = False
gl.right_labels = False
plt.title("Map of Japan with Weather Stations")

#===========
# Plot weather station coordinates with red markers on the map
ax.scatter(longitude, latitude, marker='o', color='red', s=20, transform=ccrs.PlateCarree())






# Calculate the mean of each column in the DataFrame
point_values = df.mean()
point_values





import matplotlib.cm as cm
import matplotlib.colorbar as mcolorbar
import matplotlib.colors as mcolors







plt.figure(figsize=(10, 8))
ax = plt.axes(projection=ccrs.PlateCarree())
ax.set_extent(map_extent, crs=ccrs.PlateCarree())
# Add coastlines and other features
ax.coastlines(resolution='10m')
ax.add_feature(cfeature.BORDERS, linestyle=':')
ax.add_feature(cfeature.LAND, facecolor='lightgray')
ax.add_feature(cfeature.OCEAN, facecolor='lightblue')
ax.add_feature(cfeature.LAKES, facecolor='blue', alpha=0.5)
ax.add_feature(cfeature.RIVERS)
# Optional gridlines
gl = ax.gridlines(draw_labels=True, linestyle='--', color='gray')
gl.top_labels = False
gl.right_labels = False
plt.title("Map of Japan with Colored Weather Stations")

#==========
# Normalize the color scale based on the range of point values
norm = mcolors.Normalize(vmin=min(point_values), vmax=max(point_values))
# Set the color map to 'hot' for a gradient from black to red to yellow
color_map = cm.hot
# Plot points for each station with color based on station_id in a single scatter plot
sc = ax.scatter(longitude, latitude, c=point_values, cmap=color_map, s=20, norm=norm, transform=ccrs.PlateCarree())








fig = plt.figure(figsize=(10, 8))
ax = plt.axes(projection=ccrs.PlateCarree())
ax.set_extent(map_extent, crs=ccrs.PlateCarree())
# Add coastlines and other features
ax.coastlines(resolution='10m')
ax.add_feature(cfeature.BORDERS, linestyle=':')
ax.add_feature(cfeature.LAND, facecolor='lightgray')
ax.add_feature(cfeature.OCEAN, facecolor='lightblue')
ax.add_feature(cfeature.LAKES, facecolor='blue', alpha=0.5)
ax.add_feature(cfeature.RIVERS)
# Optional gridlines
gl = ax.gridlines(draw_labels=True, linestyle='--', color='gray')
gl.top_labels = False
gl.right_labels = False
plt.title("Map of Japan with Colored Weather Stations")

norm = mcolors.Normalize(vmin=min(point_values), vmax=max(point_values))
color_map = cm.hot
sc = ax.scatter(longitude, latitude, c=point_values, cmap=color_map, s=20, norm=norm, transform=ccrs.PlateCarree())

#==========
# Create the colorbar and place it inside the map
sm = plt.cm.ScalarMappable(cmap=color_map, norm=norm)
sm.set_array([])  
# Add the colorbar to the figure with custom placement and appearance
cbar = fig.colorbar(sm, ax=ax, orientation='horizontal',
                    pad=0.05, fraction=0.05, shrink=0.5, anchor=(0.8, 0.5))

# Set the label for the colorbar
cbar.set_label("Temperature ($^oC$)")







fig.savefig('Map_of_Japan_with_colored_points.png', dpi=100)






