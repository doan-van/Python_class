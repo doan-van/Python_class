import xarray as xr
import pandas as pd


ds = xr.open_dataset('/Users/doan/MyDrive/share/metclimdata4ML/S-k-means_paper/AM_t_1950_y.nc')


ds['idata']


ds['idata'].plot()


df = pd.DataFrame(ds['idata'])
df.index = ds.sts
df = df.T
df.index = ds.year


df.to_csv('Temp_increase_Japan_1950-2020.csv')


df.plot(legend=False)





dp = xr.open_dataset('/Users/doan/Downloads/PMSL_all.nc')


dp.PMSL[0].plot()


# Select one year (e.g., 2010) from the dataset
year_data = dp.sel(time=slice("2010-01-01", "2010-12-31"))
# Update negative longitude values by adding 360 to convert to [0, 360] range
year_data['lon2d'] = year_data.lon2d.where(year_data.lon2d >= 0, year_data.lon2d + 360)



year_data.lon2d.min()


# Write to NetCDF3 format
year_data.to_netcdf("SST_2010_data.nc", format="NETCDF3_CLASSIC")


year_data.lon2d


import matplotlib.pyplot as plt
import cartopy.crs as ccrs
import cartopy.feature as cfeature

# List of projections including Lambert Conformal Conic centered on Japan
projections = [
    ccrs.PlateCarree(central_longitude=180),               # Plate Carree centered on 180°
    ccrs.Mercator(central_longitude=180),                  # Mercator centered on 180°
    ccrs.Robinson(central_longitude=180),                  # Robinson centered on 180°
    ccrs.LambertConformal(central_longitude=140, central_latitude=35, 
                          standard_parallels=(30, 60)),    # Lambert Conformal Conic centered on Japan
    ccrs.Orthographic(central_longitude=140, central_latitude=35)  # Orthographic centered on Japan
]

# Calculate the mean over time to get the annual average PMSL
yearly_mean_pmsl = year_data.PMSL.mean(dim='time')

# Create a figure with optimized spacing and layout
fig, axs = plt.subplots(2, 3, figsize=(18, 12), subplot_kw={'projection': ccrs.PlateCarree(central_longitude=180)})
axs = axs.ravel()  # Flatten to easily iterate

for i, projection in enumerate(projections):
    ax = plt.subplot(2, 3, i + 1, projection=projection)  # Create subplot with each projection
    
    # Plot PMSL data on the grid of latitude and longitude, with consistent transform
    contour = ax.contourf(year_data.lon2d, year_data.lat2d, yearly_mean_pmsl, 
                          cmap="coolwarm", transform=ccrs.PlateCarree(), extend="both")
    
    # Add map features for clarity
    ax.coastlines(resolution='50m')
    ax.add_feature(cfeature.BORDERS, linestyle=':', alpha=0.5)
    ax.add_feature(cfeature.LAND, facecolor='lightgray', edgecolor='black', linewidth=0.5)
    
    # Gridlines for geographical orientation
    gl = ax.gridlines(draw_labels=True, linestyle="--", color="gray", alpha=0.6)
    gl.top_labels = gl.right_labels = False  # Remove labels on top and right to reduce clutter
    
    # Set the title to the name of the projection for clarity
    ax.set_title(projection.__class__.__name__)

# Add a shared color bar for all subplots
cbar = fig.colorbar(contour, ax=axs, orientation="horizontal", pad=0.1, fraction=0.05, shrink=0.8)
cbar.set_label("PMSL (hPa)")

# Remove the last empty subplot (if using a 2x3 layout)
fig.delaxes(axs[-1])

# Adjust layout and show plot
plt.tight_layout()
plt.show()

