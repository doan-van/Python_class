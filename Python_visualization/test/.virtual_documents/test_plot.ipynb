import xarray as xr
import pandas as pd
import numpy as np
import matplotlib.pyplot as plt
import cartopy.crs as ccrs
import cartopy.feature as cfeature


ds = xr.open_dataset('0719.nc')
ds


data = ds['rh'][0]
data.plot()





lon_grid, lat_grid = data.lon, data.lat


fig = plt.figure(figsize=(10, 8))
ax = plt.axes(projection=projection)
levels = np.arange(930, 1050, 2)  # Pressure levels in hPa
contourf = ax.contourf(lon_grid, lat_grid, pressure_data, levels=levels, cmap="coolwarm", 
                       transform=ccrs.PlateCarree())
# Add contour lines
contour = ax.contour(lon_grid, lat_grid, pressure_data, levels=levels, colors="black", linewidths=0.5, transform=ccrs.PlateCarree())
# Label contour lines
ax.clabel(contour, contour.levels, inline=True, fontsize=8, fmt='%1.0f hPa')
# Add a color bar for the filled contour
cbar = plt.colorbar(contourf, ax=ax, orientation='horizontal', pad=0.05, shrink=0.7)
cbar.set_label("Surface Air Pressure (hPa)")

#=====
# Add coastlines and other geographic features for reference
ax.coastlines(resolution='10m', lw=.1)
ax.add_feature(cfeature.LAND, facecolor='lightgray')
ax.add_feature(cfeature.OCEAN, facecolor='none')

# Add gridlines and only show longitude labels
gl = ax.gridlines(draw_labels=True, linestyle='--', color='gray', alpha=0.5)
gl.top_labels = True  # Turn off top labels
gl.bottom_labels = True  # Show bottom labels (longitude)
gl.left_labels = True  # Turn off left labels (latitude)
gl.right_labels = False # Turn off right labels
gl.xlabel_style = {'size': 10, 'color': 'black'}

# Set extent to cover Japan [longitude_min, longitude_max, latitude_min, latitude_max]
ax.set_extent([122, 153, 24, 46], crs=ccrs.PlateCarree())

# Add title for the plot
plt.title("Air Pressure Distribution over Japan with Filled Contours and Contour Lines")

# Coordinates for Tokyo
tokyo_lon, tokyo_lat = 139.6917, 35.6895
# Mark Tokyo with a red dot and label
ax.plot(tokyo_lon, tokyo_lat, marker='o', color='red', markersize=5, transform=ccrs.PlateCarree())
ax.text(tokyo_lon + 0.5, tokyo_lat, 'Tokyo', transform=ccrs.PlateCarree(), fontsize=12, color='red')

plt.savefig('airpressure.png', dpi=100)




