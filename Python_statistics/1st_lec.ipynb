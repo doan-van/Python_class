{
 "cells": [
  {
   "cell_type": "markdown",
   "id": "0ea2c853-d3d7-4a3c-8cd4-ba293457b0dc",
   "metadata": {},
   "source": [
    "# First time\n",
    "\n",
    "1) How to use Ananconda in university's computer\n",
    "\n",
    "2) How to install Anaconda in your own computer\n",
    "\n",
    "3) Start python with in your own computer\n",
    "\n",
    "a) basic concept and syntac\n",
    "\n",
    "b) basic library\n",
    "\n",
    "c) read and write data\n",
    "\n",
    "d) plotting\n",
    "\n",
    "e) simple calculation\n",
    "\n",
    "\n"
   ]
  }
 ],
 "metadata": {
  "kernelspec": {
   "display_name": "Python 3 (ipykernel)",
   "language": "python",
   "name": "python3"
  },
  "language_info": {
   "codemirror_mode": {
    "name": "ipython",
    "version": 3
   },
   "file_extension": ".py",
   "mimetype": "text/x-python",
   "name": "python",
   "nbconvert_exporter": "python",
   "pygments_lexer": "ipython3",
   "version": "3.11.5"
  }
 },
 "nbformat": 4,
 "nbformat_minor": 5
}
