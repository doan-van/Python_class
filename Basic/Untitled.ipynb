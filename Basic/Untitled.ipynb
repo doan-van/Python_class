{
 "cells": [
  {
   "cell_type": "markdown",
   "id": "fd95c2e3-ee44-4f22-906d-c4d3ae6932a0",
   "metadata": {},
   "source": [
    "# Python manual\n",
    "\n",
    "## Learning basic\n",
    "https://docs.python.org/3/tutorial/index.html\n",
    "## Useful libraries\n",
    "\n",
    "* pandas: for processing csv (excel-like data), text data\n",
    "* xarray: for processing Netcdf data, 2-dimensional data, big data\n",
    "* matplotlib: for plotting\n",
    "* cartopy: for plotting map\n",
    "* "
   ]
  },
  {
   "cell_type": "code",
   "execution_count": null,
   "id": "59c5726a-3474-48c4-9ee9-413002e7f759",
   "metadata": {},
   "outputs": [],
   "source": []
  }
 ],
 "metadata": {
  "kernelspec": {
   "display_name": "Python 3 (ipykernel)",
   "language": "python",
   "name": "python3"
  },
  "language_info": {
   "codemirror_mode": {
    "name": "ipython",
    "version": 3
   },
   "file_extension": ".py",
   "mimetype": "text/x-python",
   "name": "python",
   "nbconvert_exporter": "python",
   "pygments_lexer": "ipython3",
   "version": "3.11.5"
  }
 },
 "nbformat": 4,
 "nbformat_minor": 5
}
