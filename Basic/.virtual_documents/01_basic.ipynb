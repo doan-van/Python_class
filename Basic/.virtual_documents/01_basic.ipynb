




















# スタート
print('Hello world!')

string='Hello world'
print(string)

print(string.lower())
print(string.upper())
#.lower(), upper()は　string 'Hello world' の　functionと言います。





# 基本演算

x = 1.0
y = 2.0

z = x**2 + 2.5*y**2 

print(z)

z = x / y - 1.

print(z)






# python 配列
import numpy as np

# 定義し方 
x = np.array([1,2,3])
print(x)

x = np.arange(-10,10,.5)
print(x)

y = x**2 + 2.*x  + 10

print(x)
print(y)





import matplotlib.pyplot as plt

plt.plot(x,y)
plt.show()

y = np.cos(x)

plt.plot(x,y)
plt.show()

plt.plot(x,y, ls='--',marker='o', color='g')
plt.xlabel('x label', fontsize=20)
plt.ylabel('unit', fontsize=12, color='r')














#分岐
a = 1
if a > 1:
    print('a > 1')
else:
    print('a <= 1')
 

#繰り返し処理
for b in [1,2,3]:
    print(b)
    
    





# read csv file (AMeDAS data Tokyo station)
import pandas as pd
# 
df = pd.read_csv('data/2023_10_23.csv')

print(df.head())


df = pd.read_csv('data/2023_10_23.csv', index_col=0, parse_dates=True)
print(df.head())


print(df.columns)


df['temp_C'].plot()
plt.ylabel('Temp')
plt.legend(['Temp'])






import xarray as xr



ds = xr.open_dataset('data/geo_em.d03.nc')



ds


ds.LANDUSEF[0,0].plot()


import matplotlib.pyplot as plt
import cartopy.crs as ccrs
fig   =  plt.figure(figsize= (5,5))
ax  = plt.axes([0.1,0.1,0.85,0.85], projection=ccrs.PlateCarree())
ax.coastlines('10m', linewidth=1.,color='gray')

lon, lat = ds.XLONG_M[0].values, ds.XLAT_M[0].values
z = ds.LANDUSEF[0,0].values

plt.pcolormesh(lon, lat, z,transform=ccrs.PlateCarree(), cmap=plt.get_cmap('hot'))









