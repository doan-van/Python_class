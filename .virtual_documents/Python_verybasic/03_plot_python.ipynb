








# python 配列
import numpy as np
x = np.arange(-10,10,1)
y = x**2 + 2.*x  + 10

print('x', x)
print('y', y)





import matplotlib.pyplot as plt


plt.plot(x,y)
plt.show()





x = np.arange(-10,10,0.1)
y = np.cos(x)
plt.plot(x,y)
plt.show()


plt.plot(x,y, ls='--',marker='o', color='g')
plt.xlabel('x label', fontsize=20)
plt.ylabel('unit', fontsize=12, color='r')





# read csv file (AMeDAS data Tokyo station)
import pandas as pd
# 
df = pd.read_csv('2023_10_23.csv')

print(df.head())


df['temp_C'].plot()
plt.ylabel('Temp')
plt.legend(['Temp'])








lat = pd.read_csv('data/tokyo_2dlatitude.csv', header=None)
lon = pd.read_csv('data/tokyo_2dlongitude.csv', header=None)
ufrac = pd.read_csv('data/tokyo_urban_fraction.csv', header=None)


import matplotlib.pyplot as plt

fig   =  plt.figure(figsize= (5,4))
plt.pcolormesh(lon, lat, ufrac, cmap=plt.get_cmap('hot'))
plt.colorbar(label = 'urban fraction (-)')
plt.xlabel('longitude')
plt.ylabel('latitude')








