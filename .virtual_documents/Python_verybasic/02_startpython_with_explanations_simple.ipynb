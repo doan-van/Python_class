


# スタート
print('Hello world!')

string='Hello world'
print(string)

print(string.lower())
print(string.upper())
#.lower(), upper()は　string 'Hello world' の　functionと言います。











# 2つの数を足す
a = 5
b = 3
result = a + b
print("足し算:", result)  # 出力: 足し算: 8

# 2つの数を引く
a = 10
b = 4
result = a - b
print("引き算:", result)  # 出力: 引き算: 6






# 2つの数を掛ける
a = 7
b = 6
result = a * b
print("掛け算:", result)  # 出力: 掛け算: 42

# 1つの数を別の数で割る
a = 20
b = 5
result = a / b
print("割り算:", result)  # 出力: 割り算: 4.0

# 割り算の余りを求める
a = 17
b = 3
result = a % b
print("剰余:", result)  # 出力: 剰余: 2









# リストの作成
fruits = ["りんご", "バナナ", "オレンジ"]
print("果物リスト:", fruits)  # 出力: 果物リスト: ['りんご', 'バナナ', 'オレンジ']









# リストの要素へのアクセス
first_fruit = fruits[0]
print("最初の果物:", first_fruit)  # 出力: 最初の果物: りんご















import numpy as np





array_1d = np.array([1, 2, 3, 4])
array_2d = np.array([[1, 2], [3, 4]])
print("1次元配列:", array_1d)  # 出力: 1次元配列: [1 2 3 4]
print("2次元配列:\n", array_2d)  # 出力: 2次元配列: [[1 2]








print("1次元配列の形状:", array_1d.shape)  # 出力: 1次元配列の形状: (4,)
print("2次元配列の形状:", array_2d.shape)  # 出力: 2次元配列の形状: (2, 2)








array_1d = np.array([1, 2, 3])
result_add = array_1d + 5
result_mult = array_1d * 2
print("配列に5を加算:", result_add)  # 出力: 配列に5を加算: [6 7 8]
print("配列を2倍:", result_mult)      # 出力: 配列を2倍: [2 4 6]









sliced_array = array_1d[1:3]
print("スライスした配列:", sliced_array)  # 出力: スライスした配列: [2 3]









fruits = ["りんご", "バナナ", "オレンジ"]
for fruit in fruits:
    print(fruit)









# インデックスを使ったループ
for i in range(5):
    print("番号:", i)








# 条件に基づいて処理を分岐
number = 10
if number > 5:
    print("5より大きい")








# 複数の条件をチェック
number = 5
if number > 5:
    print("5より大きい")
elif number == 5:
    print("5と等しい")
else:
    print("5より小さい")








# リストの中の特定の条件に合う要素をチェック
numbers = [1, 2, 3, 4, 5]
for number in numbers:
    if number % 2 == 0:
        print(number, "は偶数です")  # 偶数の場合
    else:
        print(number, "は奇数です")  # 奇数の場合




