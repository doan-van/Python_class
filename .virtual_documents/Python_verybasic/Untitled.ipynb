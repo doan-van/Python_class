import pandas as pd


#df = pd.read_csv('/Users/doan/Downloads/data.csv', encoding="utf-8")
df = pd.read_csv('/Users/doan/Downloads/data.csv', encoding="utf-8", encoding_errors="ignore")


df


import glob
import os


files = glob.glob('/Users/doan/MyDrive/share/2024/Earthinfor_AMeDAS/AMeDAS/*/*.csv')


# /Volumes/Untitled/AMeDAS/
odir0 = '/Users/doan/MyDrive/share/2024/Earthinfor_AMeDAS/data/'
files = sorted(glob.glob('/Volumes/Untitled/AMeDAS/*/*.csv'))
for f in files[:]:
    df = pd.read_csv(f, index_col=0)
    x = df['temp_C']
    if x.isnull().all(): 
        continue
    odir = odir0 + f.split('/')[-2] + '/'
    if not os.path.exists(odir): os.makedirs(odir)
    ofile = odir +  f.split('/')[-1]
    df.to_csv(ofile)


files = glob.glob('/Users/doan/MyDrive/share/2024/Earthinfor_AMeDAS/data/*/*.csv')
len(files)


import random
import matplotlib.pyplot as plt


for i in range(10):
    ind = random.randint(0, len(files))
    ifile = files[0]
    df = pd.read_csv(ifile, index_col=0)
    df['temp_C'].plot()
    print(ifile)
    print(df.head())
    plt.show()
    



import pandas as pd
import matplotlib.pyplot as plt
df = pd.read_csv(ifile, index_col=0)
x = [ 1,  2,  3,  4,  5,  6,  7,  8,  9, 10, 11, 12, 13, 14, 15, 16, 17,18, 19, 20, 21, 22, 23, 24]
y = df['temp_C']
plt.plot(x,y)



import numpy as np
np.arange(1,25)


df = pd.read_csv('/Users/doan/Downloads/data_1.csv')


ifile = '/Users/doan/MyDrive/share/2024/Earthinfor_AMeDAS/AMeDAS/0002/2023_01_19.csv'


df = pd.read_csv(ifile, index_col=0)


df['temp_C'].plot()



